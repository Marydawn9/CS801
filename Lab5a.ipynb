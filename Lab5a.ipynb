{
 "cells": [
  {
   "cell_type": "markdown",
   "metadata": {},
   "source": [
    "<div style=\"text-align: right\"> CS801 - Lab 5a (2020) </div>\n",
    "\n",
    "# Some simple statsitical distributions\n",
    "\n",
    "As we get to the later parts of the lab using Bayesian inference we will need to work with probability distributions, so if you are unfamiliar with these (you may have really only drawn from a random/Uniform distributions in previous labs) then the exercises below may be useful. If you feel confident in using distributions you can move straight to the \"SUBMIT\" elements and answer the questions.\n"
   ]
  },
  {
   "cell_type": "markdown",
   "metadata": {
    "button": false,
    "new_sheet": false,
    "run_control": {
     "read_only": false
    }
   },
   "source": [
    "# Bernoulli Distribution\n",
    "This is probably the simplest type of probability distribution - as it generates only one of two outcomes, normally referred to as `success` or `failure` (or `1`/`0`; `yes`/`no`; `true`/`false`; etc.) and has only one parameter value `p`. (Sometimes `q` is also noted, but as this is simply `= 1 - p` it is not really a separate parameter.)\n",
    "\n",
    "Formally we state that a random variable X that has a Bernoulli distribution will take the value `1` with the probability of success `p` and the value `0` with the probability of failure, `q` = (1 - `p`). While the Bernoulli distribution defines the success/failure of a single trial (n = 1) we will typically generate the set of outcomes over a range of trials to observe the 'average' behaviour of the distribution.\n",
    "\n",
    "There are a number of ways to work with distributions in Python, with the functions in `numpy` and `scipy.stats` being  the most common. The best way to understand distributions is almost always to graph/plot them and as such we will use various plots to do so - mostly using the more 'basic' functions of `matplotlib` but sometimes also using `seaborn` as it provides 'nicer' output at times (and gives you some exposure to more than one way of graphing output).\n"
   ]
  },
  {
   "cell_type": "code",
   "execution_count": 1,
   "metadata": {
    "button": false,
    "new_sheet": false,
    "run_control": {
     "read_only": false
    }
   },
   "outputs": [],
   "source": [
    "# Given that we will need them at various places, load these libraries now...\n",
    "\n",
    "import numpy as np\n",
    "import seaborn as sns\n",
    "from scipy.stats import bernoulli, binom, uniform, poisson\n",
    "import matplotlib.pyplot as plt\n"
   ]
  },
  {
   "cell_type": "markdown",
   "metadata": {
    "button": false,
    "new_sheet": false,
    "run_control": {
     "read_only": false
    }
   },
   "source": [
    "A common way to reference these types of distribution is to look at the output of a random variable that has been defined to be of that particular type. In this case we use the `bernoulli.rvs` function to generate a series of outputs. The function can take a few parameters, with the essential parameter being `p` to which we can also specify `size` the number of trials we wish to simulate. \n"
   ]
  },
  {
   "cell_type": "code",
   "execution_count": 7,
   "metadata": {
    "button": false,
    "new_sheet": false,
    "run_control": {
     "read_only": false
    }
   },
   "outputs": [
    {
     "name": "stdout",
     "output_type": "stream",
     "text": [
      "[1 1 0 1 1 1 0 1 0 1]\n"
     ]
    }
   ],
   "source": [
    "# A very basic call to the Bernoulli function could be used to create a random  variable 'r_Bern'.\n",
    "# Here we are going to run 10 trials, each of which has a p(`success`) = 0.25\n",
    "\n",
    "r_Bern = bernoulli.rvs(p=0.50, size=10)\n",
    "print(r_Bern)\n"
   ]
  },
  {
   "cell_type": "markdown",
   "metadata": {
    "button": false,
    "new_sheet": false,
    "run_control": {
     "read_only": false
    }
   },
   "source": [
    "Note that every time you run those last two lines you will (almost certainly) get a different outcome...  Indeed, it is quite likely that you may run the command and get all `0` outcomes... (much less likely that you will get all `1`s - though you could in fact calculate how likely this might be, and we will do so when we get to the **Binomial** distribution below.)\n"
   ]
  },
  {
   "cell_type": "markdown",
   "metadata": {
    "button": false,
    "new_sheet": false,
    "run_control": {
     "read_only": false
    }
   },
   "source": [
    "## Exercise 5a1\n",
    "\n",
    "Alter the values of the two parameters being passed to the Bernoulli fucntion above and check that the output makes sense to you...\n"
   ]
  },
  {
   "cell_type": "markdown",
   "metadata": {
    "button": false,
    "new_sheet": false,
    "run_control": {
     "read_only": false
    }
   },
   "source": [
    "## Exercise 5a2\n",
    "Perhaps a more useful way to view the output is as a graph (histogram) that summarises the numbers of `0` and `1` outcomes...  We can do this using the code below. (Note that I have increased the overall number of trials and reduced the likelihood of getting a `success`.) \n",
    "\n",
    "Again you can alter these parameter values and also compare the output with/without the `density` parameter set...\n"
   ]
  },
  {
   "cell_type": "code",
   "execution_count": 10,
   "metadata": {
    "button": false,
    "new_sheet": false,
    "run_control": {
     "read_only": false
    }
   },
   "outputs": [
    {
     "data": {
      "image/png": "[encoded data removed]",
      "text/plain": [
       "<Figure size 432x288 with 1 Axes>"
      ]
     },
     "metadata": {
      "needs_background": "light"
     },
     "output_type": "display_data"
    }
   ],
   "source": [
    "# Plotting, rather than just listing, the values produced for our Bernoulli distribution\n",
    "\n",
    "# For this type of distribution it is arguably more useful to keep the y-axis limited to 1 - i.e. we are typically\n",
    "# thinking in terms of proportions, rather than absolute numbers. We can use the `density` parameter to acheive this.\n",
    "\n",
    "plt.hist(bernoulli.rvs(size=30,p=0.15),density=True)\n",
    "plt.show()\n"
   ]
  },
  {
   "cell_type": "code",
   "execution_count": 11,
   "metadata": {
    "button": false,
    "new_sheet": false,
    "run_control": {
     "read_only": false
    }
   },
   "outputs": [
    {
     "data": {
      "image/png": "[encoded data removed]",
      "text/plain": [
       "<Figure size 432x288 with 1 Axes>"
      ]
     },
     "metadata": {
      "needs_background": "light"
     },
     "output_type": "display_data"
    }
   ],
   "source": [
    "# Setting the `density` parameter to `False` will show the than absolute numbers in the '0'and '1' classes of output\n",
    "\n",
    "plt.hist(bernoulli.rvs(size=30,p=0.15),density=False)\n",
    "plt.show()\n"
   ]
  },
  {
   "cell_type": "markdown",
   "metadata": {
    "button": false,
    "new_sheet": false,
    "run_control": {
     "read_only": false
    }
   },
   "source": [
    "# Binomial Distribution\n",
    "This distribution builds in the Bernoulli in a way that makes things a bit more 'useful'. This is still a discrete probability distribution but now allows us to model the outcomes of a certain number of random trials within the same 'experiment'. The Binomial requires two parameters: the probability of success for any given trial (same as `p` in the case for Bernoulli), and also the number of trials (`n`) to be conducted within our experiment. The outcome of the Binomial distribution represents how likely it is that we will observe a given number of successes (up to `n`) in the experiment. \n",
    "\n",
    "So, if we wanted to model the tossing of a fair coin 8 times and assumed that there was a 50% chance of getting a head (which we can refer to as a `success`). The Binomial distribution will tell us how likely it is that we will get 0 heads, 1 head... up to 8 heads. \n",
    "\n",
    "Due to the random effects present in any random variable we need to run a number of experiments to get a picture of the 'average' behaviour over time...\n"
   ]
  },
  {
   "cell_type": "markdown",
   "metadata": {
    "button": false,
    "new_sheet": false,
    "run_control": {
     "read_only": false
    }
   },
   "source": [
    "## Exercise 5a3\n",
    "Once again we use the **scipy** library, but now use the `binom.rvs` and will initally simulate 100 experiments.\n"
   ]
  },
  {
   "cell_type": "code",
   "execution_count": 19,
   "metadata": {
    "button": false,
    "new_sheet": false,
    "run_control": {
     "read_only": false
    }
   },
   "outputs": [
    {
     "data": {
      "text/plain": [
       "array([5, 3, 5, ..., 2, 4, 3])"
      ]
     },
     "execution_count": 19,
     "metadata": {},
     "output_type": "execute_result"
    }
   ],
   "source": [
    "fair_coin_tosses = binom.rvs(n=8,           # Number of trial in each experiment\n",
    "                             p=0.5,         # Probability if success\n",
    "                             size=10000)      # Number of experiments\n",
    "\n",
    "fair_coin_tosses"
   ]
  },
  {
   "cell_type": "code",
   "execution_count": 20,
   "metadata": {
    "button": false,
    "new_sheet": false,
    "run_control": {
     "read_only": false
    }
   },
   "outputs": [
    {
     "data": {
      "text/html": [
       "<div>\n",
       "<style scoped>\n",
       "    .dataframe tbody tr th:only-of-type {\n",
       "        vertical-align: middle;\n",
       "    }\n",
       "\n",
       "    .dataframe tbody tr th {\n",
       "        vertical-align: top;\n",
       "    }\n",
       "\n",
       "    .dataframe thead th {\n",
       "        text-align: right;\n",
       "    }\n",
       "</style>\n",
       "<table border=\"1\" class=\"dataframe\">\n",
       "  <thead>\n",
       "    <tr style=\"text-align: right;\">\n",
       "      <th>col_0</th>\n",
       "      <th>0</th>\n",
       "      <th>1</th>\n",
       "      <th>2</th>\n",
       "      <th>3</th>\n",
       "      <th>4</th>\n",
       "      <th>5</th>\n",
       "      <th>6</th>\n",
       "      <th>7</th>\n",
       "      <th>8</th>\n",
       "    </tr>\n",
       "    <tr>\n",
       "      <th>row_0</th>\n",
       "      <th></th>\n",
       "      <th></th>\n",
       "      <th></th>\n",
       "      <th></th>\n",
       "      <th></th>\n",
       "      <th></th>\n",
       "      <th></th>\n",
       "      <th></th>\n",
       "      <th></th>\n",
       "    </tr>\n",
       "  </thead>\n",
       "  <tbody>\n",
       "    <tr>\n",
       "      <th>counts</th>\n",
       "      <td>41</td>\n",
       "      <td>284</td>\n",
       "      <td>1098</td>\n",
       "      <td>2276</td>\n",
       "      <td>2687</td>\n",
       "      <td>2155</td>\n",
       "      <td>1092</td>\n",
       "      <td>325</td>\n",
       "      <td>42</td>\n",
       "    </tr>\n",
       "  </tbody>\n",
       "</table>\n",
       "</div>"
      ],
      "text/plain": [
       "col_0    0    1     2     3     4     5     6    7   8\n",
       "row_0                                                 \n",
       "counts  41  284  1098  2276  2687  2155  1092  325  42"
      ]
     },
     "execution_count": 20,
     "metadata": {},
     "output_type": "execute_result"
    }
   ],
   "source": [
    "# This output is not very easy to interpret - it just lists the outcome of each of 100 experiments.\n",
    "# You many even see a \"0\" or \"8\" in this 100 outputs listed, maybe not, that depends on your random \n",
    "# number generator.  However, we could generate a table of values that might be more useful to get a \n",
    "# summary. (We will import pandas to help us out, but we could generate tables in other ways.)\n",
    "\n",
    "import pandas as pd\n",
    "\n",
    "print(pd.crosstab(index=\"counts\", columns=fair_coin_tosses))\n"
   ]
  },
  {
   "cell_type": "code",
   "execution_count": 21,
   "metadata": {
    "button": false,
    "new_sheet": false,
    "run_control": {
     "read_only": false
    }
   },
   "outputs": [
    {
     "data": {
      "image/png": "[encoded data removed]",
      "text/plain": [
       "<Figure size 432x288 with 1 Axes>"
      ]
     },
     "metadata": {
      "needs_background": "light"
     },
     "output_type": "display_data"
    }
   ],
   "source": [
    "# We can see from the table that 3, 4, and 5 'successes' seem most likely but maybe a graph would be more useful?\n",
    "# Pandas also provides some simple 'built in' graphs, such as histograms.\n",
    "\n",
    "pd.DataFrame(fair_coin_tosses).hist(range=(-0.5, 8.5), bins=9);\n"
   ]
  },
  {
   "cell_type": "markdown",
   "metadata": {
    "button": false,
    "new_sheet": false,
    "run_control": {
     "read_only": false
    }
   },
   "source": [
    "## Exercise 5a4\n",
    "This is where we have a bit of an 'issue' in that I don't know how symetrical your set of outputs might happen to look, due to the fact that we will all get different results! (See note on 'random' number later in this lab.) However, mine did not look very symetrical with more cases of `3` than any other outcome.\n",
    "\n",
    "Use the same distribution as above but simulate 1,000 experiments and then 10,000 to see what difference this makes...  (NB - esp for the case of 10,000 you may wish to switch off the 'print' statement!!)\n"
   ]
  },
  {
   "cell_type": "markdown",
   "metadata": {
    "button": false,
    "new_sheet": false,
    "run_control": {
     "read_only": false
    }
   },
   "source": [
    "## Exercise 5a5\n",
    "Hopefully as you increased the number of simulations you found the shape of the distribution was a bit more stable and also symetrical? As the distribution is disrete the output values can only take on integer values {0 - 8} and so while the distribution looks a bit like the `normal` it will never have never 'smooth' edges. \n"
   ]
  },
  {
   "cell_type": "markdown",
   "metadata": {
    "button": false,
    "new_sheet": false,
    "run_control": {
     "read_only": false
    }
   },
   "source": [
    "## Exercise 5a6\n",
    "If you run a large enough number of experiments then the distribution will converge to stable values...  this is nicely illustrated in the [Online_Stats_Book](http://onlinestatbook.com/2/calculators/binomial_dist.html) calculator for the Binomial distribution.\n",
    "\n",
    "Compare the outputs from that calculator to your own. You may also notice that you can get probabilities for specific values or ranges of values (below the graphical output). We can use the probability mass function (`pmf`) and cummulative density function (`cdf`) to get the sorts of probability values shown in that panel.\n",
    "\n",
    "A couple of examples are shown below to give you the syntax of the function calls. Modify these to find, for the case of experiments consisting of 20 'fair' trials, the chances of:\n",
    "\n",
    " - getting exactly 12 successes   {I get the value = 0.1201}\n",
    " - getting at most 6 succesful outcomes  {I get the value = 0.0577}\n",
    " - getting 11 or more successful outcomes  {I get the value = 0.4119}\n",
    " - getting 18 or more successful ourcomes  {I got value = 0.0002...  which I notice the **_Online-Stats calculator_** reports as \"0\"}\n",
    "\n",
    "(You could of course get these pretty easily from the **_Online-Stats calculator_** but that would be 'cheating'!!  However, feel free to use it to check your values.)\n"
   ]
  },
  {
   "cell_type": "code",
   "execution_count": 25,
   "metadata": {},
   "outputs": [
    {
     "data": {
      "text/plain": [
       "0.12013435363769531"
      ]
     },
     "execution_count": 25,
     "metadata": {},
     "output_type": "execute_result"
    }
   ],
   "source": [
    "binom.pmf (k=12,      # Probability of exactly k = 8 successes\n",
    "           n=20,     # In an experiment involing 15 trials\n",
    "           p=0.5)    # With the success of probability = 0.5\n"
   ]
  },
  {
   "cell_type": "code",
   "execution_count": 30,
   "metadata": {},
   "outputs": [
    {
     "data": {
      "text/plain": [
       "0.057659149169921854"
      ]
     },
     "execution_count": 30,
     "metadata": {},
     "output_type": "execute_result"
    }
   ],
   "source": [
    "binom.cdf (k=6,      # Probability of k = 3 successes or less (i.e. cummulative up to at most 3)\n",
    "           n=20,     # In an experiment involing 10 trials\n",
    "           p=0.5)    # With the success of probability = 0.2\n"
   ]
  },
  {
   "cell_type": "code",
   "execution_count": 36,
   "metadata": {},
   "outputs": [
    {
     "data": {
      "text/plain": [
       "0.072998046875"
      ]
     },
     "execution_count": 36,
     "metadata": {},
     "output_type": "execute_result"
    }
   ],
   "source": [
    "1 - binom.cdf(k=8,         # Probability of k = 9 successes or more (1 minus the cummulative total up to 8)\n",
    "              n=12,        # In an experiment involing 12 trials\n",
    "              p=0.5)       # With the success of probability = 0.5\n"
   ]
  },
  {
   "cell_type": "code",
   "execution_count": 39,
   "metadata": {},
   "outputs": [
    {
     "data": {
      "text/plain": [
       "0.4119014739990232"
      ]
     },
     "execution_count": 39,
     "metadata": {},
     "output_type": "execute_result"
    }
   ],
   "source": [
    "1 - binom.cdf(k=10,         # Probability of k = 11 successes or more (1 minus the cummulative total up to 10)\n",
    "              n=20,        # In an experiment involing 20 trials\n",
    "              p=0.5)"
   ]
  },
  {
   "cell_type": "markdown",
   "metadata": {
    "button": false,
    "new_sheet": false,
    "run_control": {
     "read_only": false
    }
   },
   "source": [
    "## Exercise 5a7 (SUBMIT)\n",
    "Let's be a bit sexist for a moment and assume that 80% of the population who purchase sports cars are men. If 10 sports car owners are picked at random what is the probability that this will include 8 or more men?\n",
    "at least 8 \n",
    "Does this answer seem to make intutitve sense?  If not, is it lower/higher than you expected?\n",
    "\n",
    "What is the probability that there will be more than 4 women in this random sample? \n",
    "more than"
   ]
  },
  {
   "cell_type": "code",
   "execution_count": 59,
   "metadata": {},
   "outputs": [
    {
     "data": {
      "text/plain": [
       "0.6777995264000001"
      ]
     },
     "execution_count": 59,
     "metadata": {},
     "output_type": "execute_result"
    }
   ],
   "source": [
    "1 - binom.cdf(k=7,         # Probability of k = 11 successes or more (1 minus the cummulative total up to 10)\n",
    "              n=10,        # In an experiment involing 20 trials\n",
    "              p=0.8)"
   ]
  },
  {
   "cell_type": "code",
   "execution_count": 65,
   "metadata": {},
   "outputs": [
    {
     "data": {
      "text/plain": [
       "0.03279349759999994"
      ]
     },
     "execution_count": 65,
     "metadata": {},
     "output_type": "execute_result"
    }
   ],
   "source": [
    "1 - binom.cdf(k=4,         # Probability of k = 11 successes or more (1 minus the cummulative total up to 10)\n",
    "              n=10,        # In an experiment involing 20 trials\n",
    "              p=0.2)"
   ]
  },
  {
   "cell_type": "markdown",
   "metadata": {
    "button": false,
    "new_sheet": false,
    "run_control": {
     "read_only": false
    }
   },
   "source": [
    "## Stats Distributions in `scipy`\n",
    "This may be a good time to review the various types of functions in `scipy` associated with random variables.\n",
    "\n",
    "- `stats.{distribution}.rvs()` are used to generate random numbers from the specified {distribution}, such as in the example of our 10,000 values from the `uniform` distibution above.\n",
    "- `stats.{distribution}.cdf()` the \"cumulative distribution function\" (cdf) can be used to determine the likelihood that an observation drawn from the specified distribution will fall below a specified value. Remember that the total area within an probability distribution must sum to 1 and as such this value is equivalent to the area within the density curve to the left of the value specifed.\n",
    "- `stats.{distribution}.ppf()` this can be seen as the 'inverse' of the cumulative distribution function - it stands for \"percent point function\". This returns the x cut-off value that is associated with the given probability (quantile). So we could, for example, ask for the cut-off value at whcih we have a 30% chance of drawing an observation from the distribution below this value.\n",
    "- `stats.{distribution}.pdf()` the \"probability density function\" returns the probability (the height of the density function) for a given value of x. (This is not very interesting for the uniform case as all outcomes within the range have the same density/probability value, while all outcomes outside then range have a probability density of 0!)\n"
   ]
  },
  {
   "cell_type": "markdown",
   "metadata": {},
   "source": [
    "### Distributions are also available in Numpy\n",
    "\n",
    "There are in fact many other packages in Python to allow us to work with random variables and statistical distributions; in fact in the 'Swedish Fish Inc' examples that come next, we will switch to using the functions that are offered to us in `Numpy`.\n"
   ]
  }
 ],
 "metadata": {
  "kernelspec": {
   "display_name": "Python 3",
   "language": "python",
   "name": "python3"
  },
  "language_info": {
   "codemirror_mode": {
    "name": "ipython",
    "version": 3
   },
   "file_extension": ".py",
   "mimetype": "text/x-python",
   "name": "python",
   "nbconvert_exporter": "python",
   "pygments_lexer": "ipython3",
   "version": "3.8.3"
  }
 },
 "nbformat": 4,
 "nbformat_minor": 1
}
