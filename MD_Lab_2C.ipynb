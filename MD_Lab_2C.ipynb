{
 "cells": [
  {
   "cell_type": "code",
   "execution_count": 1,
   "metadata": {},
   "outputs": [],
   "source": [
    "import numpy as np\n",
    "import matplotlib.pyplot as plt"
   ]
  },
  {
   "cell_type": "code",
   "execution_count": 2,
   "metadata": {},
   "outputs": [],
   "source": [
    "#law of large numbers The large numbers theorem states that if the same experiment or study \n",
    "#is repeated independently a large number of times,\n",
    "#the average of the results of the trials must be close to the expected value. \n",
    "\n",
    "\n",
    "#this will be illustrated by using python to determine the value of pi \n",
    "#which we know the expected value to be 3.14 "
   ]
  },
  {
   "cell_type": "code",
   "execution_count": 5,
   "metadata": {},
   "outputs": [],
   "source": [
    "#function to estimate pi \n",
    "\n",
    "def estimatepi(n):\n",
    "    count_in = 0      \n",
    "    for i in range(0, n):\n",
    "        x = np.random.uniform(-1,1)\n",
    "        y = np.random.uniform(-1,1)\n",
    "        if (x)**2 + (y)**2 <= 1:\n",
    "            count_in = count_in + 1\n",
    "    pi_estimate = (count_in / n) *4\n",
    "    return pi_estimate"
   ]
  },
  {
   "cell_type": "code",
   "execution_count": 17,
   "metadata": {},
   "outputs": [
    {
     "name": "stdout",
     "output_type": "stream",
     "text": [
      "3.304\n",
      "3.1578181818181816\n",
      "3.1505585585585583\n",
      "3.1445544554455447\n"
     ]
    }
   ],
   "source": [
    "#with law or large numbers in mind we simulate throwing 50 darts but over a large number of times\n",
    "#we should expect the estimate of our simulation to be 3.14\n",
    "\n",
    "trials = [10,100,1000,10000]\n",
    "darts = 50\n",
    "\n",
    "piestimates = []\n",
    "for i in trials:    \n",
    "    for x in range(0,i):    \n",
    "        piestimates.append(estimatepi(darts))      \n",
    "    print(np.mean(piestimates))   \n",
    "    \n",
    "#law of large numbers is shown as the larger out simulations 'trials' the closer to the expected value we get "
   ]
  },
  {
   "cell_type": "code",
   "execution_count": 19,
   "metadata": {},
   "outputs": [
    {
     "data": {
      "image/png": "[encoded data removed]",
      "text/plain": [
       "<Figure size 432x288 with 1 Axes>"
      ]
     },
     "metadata": {
      "needs_background": "light"
     },
     "output_type": "display_data"
    }
   ],
   "source": [
    "#histogram displaying output of 50 darts \n",
    "\n",
    "plt.hist(piestimates)\n",
    "plt.show();"
   ]
  },
  {
   "cell_type": "code",
   "execution_count": 20,
   "metadata": {},
   "outputs": [
    {
     "name": "stdout",
     "output_type": "stream",
     "text": [
      "3.0520000000000005\n",
      "3.166545454545455\n",
      "3.1420540540540545\n",
      "3.141094509450945\n"
     ]
    }
   ],
   "source": [
    "#with law or large numbers in mind we simulate throwing 100 darts but over a large number of times\n",
    "#we should expect the estimate of our simulation to be 3.14\n",
    "\n",
    "trials = [10,100,1000,10000]\n",
    "darts = 100\n",
    "\n",
    "piestimates2 = []\n",
    "for i in trials:    \n",
    "    for x in range(0,i):    \n",
    "        piestimates2.append(estimatepi(darts))      \n",
    "    print(np.mean(piestimates2))   \n",
    "    \n",
    "#law of large numbers is shown as the larger out simulations 'trials' the closer to the expected value we get "
   ]
  },
  {
   "cell_type": "code",
   "execution_count": 39,
   "metadata": {},
   "outputs": [
    {
     "data": {
      "image/png": "[encoded data removed]",
      "text/plain": [
       "<Figure size 432x288 with 1 Axes>"
      ]
     },
     "metadata": {
      "needs_background": "light"
     },
     "output_type": "display_data"
    }
   ],
   "source": [
    "#histogram displaying output of 100 darts \n",
    "\n",
    "plt.hist(piestimates2)\n",
    "plt.show();"
   ]
  },
  {
   "cell_type": "code",
   "execution_count": 27,
   "metadata": {},
   "outputs": [
    {
     "name": "stdout",
     "output_type": "stream",
     "text": [
      "3.1402159999999997\n"
     ]
    }
   ],
   "source": [
    "#Comparing throwing 1000 darts a 1000 times vs 1000000 darts one time \n",
    "\n",
    "#1000 darts a 1000 times\n",
    "trials = [1000]\n",
    "darts = 1000\n",
    "\n",
    "piestimates3 = []\n",
    "for i in trials:    \n",
    "    for x in range(0,i):    \n",
    "        piestimates3.append(estimatepi(darts))      \n",
    "    print(np.mean(piestimates3))   \n",
    "      \n",
    "    "
   ]
  },
  {
   "cell_type": "code",
   "execution_count": 26,
   "metadata": {},
   "outputs": [
    {
     "name": "stdout",
     "output_type": "stream",
     "text": [
      "3.143264\n"
     ]
    }
   ],
   "source": [
    "#1000000 darts one time \n",
    "trials = [1]\n",
    "darts = 1000000\n",
    "\n",
    "piestimates4 = []\n",
    "for i in trials:    \n",
    "    for x in range(0,i):    \n",
    "        piestimates4.append(estimatepi(darts))      \n",
    "    print(np.mean(piestimates4)) "
   ]
  },
  {
   "cell_type": "code",
   "execution_count": 32,
   "metadata": {},
   "outputs": [],
   "source": [
    "#both estimates return a good estimate of pi but throwing 1000 darts a 1000 times is the better estimation "
   ]
  },
  {
   "cell_type": "code",
   "execution_count": 38,
   "metadata": {},
   "outputs": [
    {
     "data": {
      "image/png": "[encoded data removed]",
      "text/plain": [
       "<Figure size 432x288 with 1 Axes>"
      ]
     },
     "metadata": {
      "needs_background": "light"
     },
     "output_type": "display_data"
    }
   ],
   "source": [
    "#unsure if this is helpful at all?\n",
    "\n",
    "a = np.random.normal(0, 3, 1000)\n",
    "b = np.random.normal(2, 4, 900)\n",
    "\n",
    "plt.hist(piestimates3, alpha = 1.0, label='piestimate3')\n",
    "plt.hist(piestimates4, alpha = 1.0, label='piestimate4')\n",
    "plt.legend(loc='upper left')\n",
    "\n",
    "plt.show()"
   ]
  },
  {
   "cell_type": "code",
   "execution_count": 44,
   "metadata": {},
   "outputs": [
    {
     "data": {
      "image/png": "[encoded data removed]",
      "text/plain": [
       "<Figure size 432x288 with 1 Axes>"
      ]
     },
     "metadata": {
      "needs_background": "light"
     },
     "output_type": "display_data"
    }
   ],
   "source": [
    "#Central limit theorem on the other hand posits that the distribution of a sample means approximates a \n",
    "#normal distribution as the sample size gets larger \n",
    "\n",
    "#comparing a sample size(darts) of 100 vs sample size of 3000\n",
    "\n",
    "#100 darts \n",
    "trials = [10000]\n",
    "darts = 100\n",
    "\n",
    "piestimates5 = []\n",
    "for i in trials:    \n",
    "    for x in range(0,i):    \n",
    "        piestimates5.append(estimatepi(darts))      \n",
    "\n",
    "\n",
    "plt.hist(piestimates5)\n",
    "plt.show();\n",
    "\n",
    "#produces a 'slightly-normal' distribution but following CLT we will run the same code with a sample size of 3000"
   ]
  },
  {
   "cell_type": "code",
   "execution_count": 53,
   "metadata": {},
   "outputs": [
    {
     "data": {
      "image/png": "[encoded data removed]",
      "text/plain": [
       "<Figure size 432x288 with 1 Axes>"
      ]
     },
     "metadata": {
      "needs_background": "light"
     },
     "output_type": "display_data"
    }
   ],
   "source": [
    "#3000 darts  \n",
    "trials = [10000]\n",
    "darts = 3000\n",
    "\n",
    "piestimates6 = []\n",
    "for i in trials:    \n",
    "    for x in range(0,i):    \n",
    "        piestimates6.append(estimatepi(darts))\n",
    "        \n",
    "        \n",
    "  \n",
    "plt.hist(piestimates6)\n",
    "plt.show();\n",
    "\n",
    "#produces a much more normal distribution compared to 3000 darts "
   ]
  },
  {
   "cell_type": "code",
   "execution_count": 58,
   "metadata": {},
   "outputs": [
    {
     "name": "stdout",
     "output_type": "stream",
     "text": [
      "normality test for 100 darts, 10000 trials\n",
      "The null hypothesis can be rejected, i.e. this sample likely did NOT come from a Normal distribution\n",
      "normality test for 3000 darts, 10000 trials\n",
      "The null hypothesis cannot be rejected, i.e. this sample likely comes from a Normal distribution\n"
     ]
    }
   ],
   "source": [
    "#while the diagrams above show a normal distribution we cannot simply base off that alone \n",
    "#Using a normality test to determine if estimates/histograms above display a normal distribution \n",
    "\n",
    "from scipy import stats\n",
    "\n",
    "stat, pi1 = stats.normaltest(piestimates5)\n",
    "stat, pi2 = stats.normaltest(piestimates6)\n",
    "\n",
    "#setting alpha as 0.05\n",
    "alpha = 0.05\n",
    "\n",
    "print(\"normality test for 100 darts, 10000 trials\")\n",
    "if pi1 < alpha:                        # null hypothesis: sample comes from a normal distribution\n",
    "    print(\"The null hypothesis can be rejected, i.e. this sample likely did NOT come from a Normal distribution\")\n",
    "else:\n",
    "    print(\"The null hypothesis cannot be rejected, i.e. this sample likely comes from a Normal distribution\")\n",
    "      \n",
    "print(\"normality test for 3000 darts, 10000 trials\")\n",
    "if pi2 < alpha:                        # null hypothesis: sample comes from a normal distribution\n",
    "    print(\"The null hypothesis can be rejected, i.e. this sample likely did NOT come from a Normal distribution\")\n",
    "else:\n",
    "    print(\"The null hypothesis cannot be rejected, i.e. this sample likely comes from a Normal distribution\")\n",
    "\n",
    "\n"
   ]
  },
  {
   "cell_type": "code",
   "execution_count": null,
   "metadata": {},
   "outputs": [],
   "source": [
    "#end "
   ]
  }
 ],
 "metadata": {
  "kernelspec": {
   "display_name": "Python 3",
   "language": "python",
   "name": "python3"
  },
  "language_info": {
   "codemirror_mode": {
    "name": "ipython",
    "version": 3
   },
   "file_extension": ".py",
   "mimetype": "text/x-python",
   "name": "python",
   "nbconvert_exporter": "python",
   "pygments_lexer": "ipython3",
   "version": "3.8.3"
  }
 },
 "nbformat": 4,
 "nbformat_minor": 4
}
